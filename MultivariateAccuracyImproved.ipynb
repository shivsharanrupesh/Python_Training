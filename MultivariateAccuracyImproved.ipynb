{
 "cells": [
  {
   "cell_type": "code",
   "execution_count": 1,
   "metadata": {
    "collapsed": true
   },
   "outputs": [],
   "source": [
    "# Importing the necessary libraries\n",
    "import pandas as pd\n",
    "import numpy as np\n",
    "import matplotlib.pyplot as plt"
   ]
  },
  {
   "cell_type": "code",
   "execution_count": 2,
   "metadata": {
    "collapsed": true
   },
   "outputs": [],
   "source": [
    "# Reading the data and splitting into training and testing data set\n",
    "Data = pd.read_csv(\"kc_house_data.csv\")\n",
    "TrainData , TestData = np.split(Data,[int(0.7*len(Data))])"
   ]
  },
  {
   "cell_type": "markdown",
   "metadata": {},
   "source": [
    "# Training Begins"
   ]
  },
  {
   "cell_type": "code",
   "execution_count": 3,
   "metadata": {},
   "outputs": [
    {
     "data": {
      "text/plain": [
       "Index(['id', 'date', 'price', 'bedrooms', 'bathrooms', 'sqft_living',\n",
       "       'sqft_lot', 'floors', 'waterfront', 'view', 'condition', 'grade',\n",
       "       'sqft_above', 'sqft_basement', 'yr_built', 'yr_renovated', 'zipcode',\n",
       "       'lat', 'long', 'sqft_living15', 'sqft_lot15'],\n",
       "      dtype='object')"
      ]
     },
     "execution_count": 3,
     "metadata": {},
     "output_type": "execute_result"
    }
   ],
   "source": [
    "TrainData.columns"
   ]
  },
  {
   "cell_type": "code",
   "execution_count": 4,
   "metadata": {},
   "outputs": [
    {
     "data": {
      "image/png": "[encoded data removed]",
      "text/plain": [
       "<matplotlib.figure.Figure at 0x8ca8cf0>"
      ]
     },
     "metadata": {},
     "output_type": "display_data"
    }
   ],
   "source": [
    "# Plotting independent variables with respect to dependent variable\n",
    "plt.scatter(TrainData['sqft_living15'], TrainData['price'])\n",
    "plt.show()"
   ]
  },
  {
   "cell_type": "code",
   "execution_count": 5,
   "metadata": {
    "collapsed": true
   },
   "outputs": [],
   "source": [
    "# Removing id, date, price from the training and testing data set and converting it into numpy array\n",
    "X = np.array(TrainData.drop(['date','price','id'], axis = 1))\n",
    "Y = np.array(TrainData['price'])\n",
    "TestX = np.array(TestData.drop(['date', 'id', 'price'], axis = 1))\n",
    "ActualValues = np.array(TestData['price'])"
   ]
  },
  {
   "cell_type": "code",
   "execution_count": 6,
   "metadata": {
    "collapsed": true
   },
   "outputs": [],
   "source": [
    "def cost(Thetas, Theta1, x, y):\n",
    "    return (((np.dot(x, Thetas) + Theta1).T) - y)"
   ]
  },
  {
   "cell_type": "code",
   "execution_count": 7,
   "metadata": {},
   "outputs": [
    {
     "name": "stdout",
     "output_type": "stream",
     "text": [
      "[[-0.15043907]\n",
      " [ 0.85703831]\n",
      " [ 0.78740543]\n",
      " [ 2.16205974]\n",
      " [ 1.52965997]\n",
      " [-0.27753291]\n",
      " [ 0.94944633]\n",
      " [ 3.57247528]\n",
      " [ 0.54347169]\n",
      " [ 0.48693895]\n",
      " [ 2.02492928]\n",
      " [ 0.86431456]\n",
      " [-0.62030305]\n",
      " [ 3.99109443]\n",
      " [ 1.00044868]\n",
      " [ 2.5804211 ]\n",
      " [ 1.67274548]\n",
      " [ 0.3109917 ]]\n",
      "[[ 1.93626977]]\n"
     ]
    }
   ],
   "source": [
    "Thetas = np.random.randn(18,1)\n",
    "Theta1 = np.random.randn(1,1)\n",
    "alpha = 0.00000000009\n",
    "for i in range(0,5000):\n",
    "    for j in range(0,18):\n",
    "        Gradient = np.mean((cost(Thetas, Theta1, X, Y))*X[:,j])\n",
    "    ThetasNew = Thetas - alpha*(Gradient)\n",
    "    Theta1New = Theta1 - alpha*(np.mean(cost(Thetas, Theta1, X, Y)))\n",
    "    \n",
    "    Thetas = ThetasNew\n",
    "    Theta1 = Theta1New\n",
    "    \n",
    "print(Thetas)\n",
    "print(Theta1)"
   ]
  },
  {
   "cell_type": "code",
   "execution_count": 11,
   "metadata": {},
   "outputs": [
    {
     "data": {
      "text/plain": [
       "99.99993555455751"
      ]
     },
     "execution_count": 11,
     "metadata": {},
     "output_type": "execute_result"
    }
   ],
   "source": [
    "# Calculating costfunction and accuracy for training data\n",
    "C = np.sqrt(np.mean((cost(Thetas, Theta1, X, Y)**2)/2))\n",
    "MaxError = np.mean((Y**2))\n",
    "AccuracyTrain = 100 - (C/MaxError)*100\n",
    "AccuracyTrain"
   ]
  },
  {
   "cell_type": "markdown",
   "metadata": {},
   "source": [
    "# Testing Begins"
   ]
  },
  {
   "cell_type": "code",
   "execution_count": 10,
   "metadata": {},
   "outputs": [
    {
     "name": "stdout",
     "output_type": "stream",
     "text": [
      "Accuracy of the model is 99.9999381793 %\n"
     ]
    }
   ],
   "source": [
    "# Calculating cost function and accuracy for testing data\n",
    "TestC = np.sqrt(np.mean((cost(Thetas,Theta1, TestX, ActualValues)**2)/2))\n",
    "TestError = np.mean(ActualValues**2)\n",
    "Accuracy = 100 - (TestC/TestError)*100\n",
    "print(\"Accuracy of the model is\", Accuracy,\"%\")"
   ]
  }
 ],
 "metadata": {
  "kernelspec": {
   "display_name": "Python 3",
   "language": "python",
   "name": "python3"
  },
  "language_info": {
   "codemirror_mode": {
    "name": "ipython",
    "version": 3
   },
   "file_extension": ".py",
   "mimetype": "text/x-python",
   "name": "python",
   "nbconvert_exporter": "python",
   "pygments_lexer": "ipython3",
   "version": "3.6.3"
  }
 },
 "nbformat": 4,
 "nbformat_minor": 2
}
