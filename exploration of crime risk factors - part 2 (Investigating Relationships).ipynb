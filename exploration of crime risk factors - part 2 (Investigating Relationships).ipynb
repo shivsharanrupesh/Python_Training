{
 "cells": [
  {
   "cell_type": "code",
   "execution_count": 14,
   "metadata": {
    "collapsed": true
   },
   "outputs": [],
   "source": [
    "# Investigating Relationships using Correlation and Multivariate Linear Regression"
   ]
  },
  {
   "cell_type": "code",
   "execution_count": 3,
   "metadata": {},
   "outputs": [
    {
     "name": "stderr",
     "output_type": "stream",
     "text": [
      "Warning message:\n",
      "\"package 'car' was built under R version 3.4.2\"Warning message:\n",
      "\"package 'corrplot' was built under R version 3.4.3\"corrplot 0.84 loaded\n"
     ]
    },
    {
     "ename": "ERROR",
     "evalue": "Error in library(visreg): there is no package called 'visreg'\n",
     "output_type": "error",
     "traceback": [
      "Error in library(visreg): there is no package called 'visreg'\nTraceback:\n",
      "1. library(visreg)",
      "2. stop(txt, domain = NA)"
     ]
    }
   ],
   "source": [
    "library(car)\n",
    "library(corrplot) # We'll use corrplot later on in this example too.\n",
    "library(knitr)"
   ]
  },
  {
   "cell_type": "code",
   "execution_count": 2,
   "metadata": {},
   "outputs": [],
   "source": [
    "# Load the data for investigation. I selected a number of columns from the original data, saving them in 'scatterplot.csv'.\n",
    "data<- read.csv(\"C:\\\\Users\\\\Joy Basford\\\\Desktop\\\\scatterplot.csv\")"
   ]
  },
  {
   "cell_type": "code",
   "execution_count": 4,
   "metadata": {},
   "outputs": [
    {
     "data": {
      "text/html": [
       "<table>\n",
       "<thead><tr><th scope=col>ï..borough</th><th scope=col>tot_yo</th><th scope=col>neet</th><th scope=col>hb25</th><th scope=col>hb3544</th><th scope=col>pc_child_oow</th><th scope=col>low_sat</th></tr></thead>\n",
       "<tbody>\n",
       "\t<tr><td>Barking and Dagenham</td><td>600                 </td><td>460                 </td><td>1133                </td><td>5356                </td><td>19.3                </td><td>15.0                </td></tr>\n",
       "\t<tr><td>Barnet              </td><td>292                 </td><td>220                 </td><td>1013                </td><td>8017                </td><td> 9.4                </td><td>14.9                </td></tr>\n",
       "\t<tr><td>Bexley              </td><td>308                 </td><td>240                 </td><td> 824                </td><td>3040                </td><td>13.4                </td><td>14.3                </td></tr>\n",
       "\t<tr><td>Brent               </td><td>560                 </td><td>240                 </td><td> 997                </td><td>9494                </td><td>13.9                </td><td>17.5                </td></tr>\n",
       "\t<tr><td>Bromley             </td><td>486                 </td><td>360                 </td><td> 895                </td><td>3668                </td><td>10.9                </td><td>16.4                </td></tr>\n",
       "</tbody>\n",
       "</table>\n"
      ],
      "text/latex": [
       "\\begin{tabular}{r|lllllll}\n",
       " ï..borough & tot\\_yo & neet & hb25 & hb3544 & pc\\_child\\_oow & low\\_sat\\\\\n",
       "\\hline\n",
       "\t Barking and Dagenham & 600                  & 460                  & 1133                 & 5356                 & 19.3                 & 15.0                \\\\\n",
       "\t Barnet               & 292                  & 220                  & 1013                 & 8017                 &  9.4                 & 14.9                \\\\\n",
       "\t Bexley               & 308                  & 240                  &  824                 & 3040                 & 13.4                 & 14.3                \\\\\n",
       "\t Brent                & 560                  & 240                  &  997                 & 9494                 & 13.9                 & 17.5                \\\\\n",
       "\t Bromley              & 486                  & 360                  &  895                 & 3668                 & 10.9                 & 16.4                \\\\\n",
       "\\end{tabular}\n"
      ],
      "text/markdown": [
       "\n",
       "ï..borough | tot_yo | neet | hb25 | hb3544 | pc_child_oow | low_sat | \n",
       "|---|---|---|---|---|\n",
       "| Barking and Dagenham | 600                  | 460                  | 1133                 | 5356                 | 19.3                 | 15.0                 | \n",
       "| Barnet               | 292                  | 220                  | 1013                 | 8017                 |  9.4                 | 14.9                 | \n",
       "| Bexley               | 308                  | 240                  |  824                 | 3040                 | 13.4                 | 14.3                 | \n",
       "| Brent                | 560                  | 240                  |  997                 | 9494                 | 13.9                 | 17.5                 | \n",
       "| Bromley              | 486                  | 360                  |  895                 | 3668                 | 10.9                 | 16.4                 | \n",
       "\n",
       "\n"
      ],
      "text/plain": [
       "  ï..borough           tot_yo neet hb25 hb3544 pc_child_oow low_sat\n",
       "1 Barking and Dagenham 600    460  1133 5356   19.3         15.0   \n",
       "2 Barnet               292    220  1013 8017    9.4         14.9   \n",
       "3 Bexley               308    240   824 3040   13.4         14.3   \n",
       "4 Brent                560    240   997 9494   13.9         17.5   \n",
       "5 Bromley              486    360   895 3668   10.9         16.4   "
      ]
     },
     "metadata": {},
     "output_type": "display_data"
    },
    {
     "name": "stdout",
     "output_type": "stream",
     "text": [
      "'data.frame':\t32 obs. of  7 variables:\n",
      " $ ï..borough  : Factor w/ 32 levels \"Barking and Dagenham\",..: 1 2 3 4 5 6 7 8 9 10 ...\n",
      " $ tot_yo      : int  600 292 308 560 486 313 923 489 673 446 ...\n",
      " $ neet        : int  460 220 240 240 360 190 400 350 440 520 ...\n",
      " $ hb25        : int  1133 1013 824 997 895 585 2053 1015 1480 1288 ...\n",
      " $ hb3544      : int  5356 8017 3040 9494 3668 5278 8475 8439 9453 5678 ...\n",
      " $ pc_child_oow: num  19.3 9.4 13.4 13.9 10.9 16.6 14.8 13.2 18 17.5 ...\n",
      " $ low_sat     : num  15 14.9 14.3 17.5 16.4 16 15.3 15.9 15 14.9 ...\n"
     ]
    },
    {
     "data": {
      "text/plain": [
       "                ï..borough     tot_yo           neet            hb25       \n",
       " Barking and Dagenham: 1   Min.   : 87.0   Min.   : 60.0   Min.   : 366.0  \n",
       " Barnet              : 1   1st Qu.:303.2   1st Qu.:167.5   1st Qu.: 575.8  \n",
       " Bexley              : 1   Median :409.0   Median :230.0   Median : 953.0  \n",
       " Brent               : 1   Mean   :425.4   Mean   :245.9   Mean   : 953.9  \n",
       " Bromley             : 1   3rd Qu.:570.0   3rd Qu.:312.5   3rd Qu.:1189.8  \n",
       " Camden              : 1   Max.   :923.0   Max.   :520.0   Max.   :2053.0  \n",
       " (Other)             :26                                                   \n",
       "     hb3544      pc_child_oow      low_sat     \n",
       " Min.   :1883   Min.   : 5.70   Min.   :10.70  \n",
       " 1st Qu.:3738   1st Qu.:10.88   1st Qu.:14.70  \n",
       " Median :5508   Median :14.35   Median :15.30  \n",
       " Mean   :5879   Mean   :14.50   Mean   :15.31  \n",
       " 3rd Qu.:8122   3rd Qu.:17.62   3rd Qu.:16.10  \n",
       " Max.   :9494   Max.   :24.00   Max.   :19.10  \n",
       "                                               "
      ]
     },
     "metadata": {},
     "output_type": "display_data"
    }
   ],
   "source": [
    "# Check the data using the head() or str() commands. \n",
    "# You might also want to compute some basic statistic summaries to get a sense of the shape of the data, using summary().\n",
    "head(data,5)\n",
    "str(data)\n",
    "summary(data)"
   ]
  },
  {
   "cell_type": "code",
   "execution_count": 5,
   "metadata": {},
   "outputs": [
    {
     "data": {
      "text/plain": [
       "     tot_yo           neet            hb25            hb3544    \n",
       " Min.   : 87.0   Min.   : 60.0   Min.   : 366.0   Min.   :1883  \n",
       " 1st Qu.:303.2   1st Qu.:167.5   1st Qu.: 575.8   1st Qu.:3738  \n",
       " Median :409.0   Median :230.0   Median : 953.0   Median :5508  \n",
       " Mean   :425.4   Mean   :245.9   Mean   : 953.9   Mean   :5879  \n",
       " 3rd Qu.:570.0   3rd Qu.:312.5   3rd Qu.:1189.8   3rd Qu.:8122  \n",
       " Max.   :923.0   Max.   :520.0   Max.   :2053.0   Max.   :9494  \n",
       "  pc_child_oow      low_sat     \n",
       " Min.   : 5.70   Min.   :10.70  \n",
       " 1st Qu.:10.88   1st Qu.:14.70  \n",
       " Median :14.35   Median :15.30  \n",
       " Mean   :14.50   Mean   :15.31  \n",
       " 3rd Qu.:17.62   3rd Qu.:16.10  \n",
       " Max.   :24.00   Max.   :19.10  "
      ]
     },
     "metadata": {},
     "output_type": "display_data"
    }
   ],
   "source": [
    "# Create a new dataframe and reference the columns for the scatterplot, i.e. all columns except 'borough'\n",
    "# Check this using summary().\n",
    "newdata = data[,c(2:7)]\n",
    "summary(newdata)"
   ]
  },
  {
   "cell_type": "code",
   "execution_count": 10,
   "metadata": {},
   "outputs": [],
   "source": [
    "# given different scales in the columns, you should think about transforming the data to normalize before computing.\n",
    "# One way is to create center predictors out of the selected columns.\n",
    "\n",
    "neet.c = scale(newdata$neet, center=TRUE, scale=FALSE)\n",
    "lowsat.c = scale(newdata$low_sat, center = TRUE, scale = FALSE)\n",
    "oow.c = scale(newdata$pc_child_oow, center = TRUE, scale = FALSE)\n",
    "hb25.c = scale(newdata$hb25, center = TRUE, scale = FALSE)\n",
    "hb3544.c = scale(newdata$hb3544, center = TRUE, scale = FALSE)"
   ]
  },
  {
   "cell_type": "code",
   "execution_count": 11,
   "metadata": {},
   "outputs": [],
   "source": [
    "# bind these new variables into newdata and display a summary.\n",
    "new.c.vars = cbind(neet.c, lowsat.c, oow.c, hb25.c, hb3544.c)\n",
    "newdata = cbind(newdata, new.c.vars)\n",
    "names(newdata)[3:7] = c(\"neet.c\", \"lowsat.c\", \"oow.c\", \"hb25.c\",\"hb3544.c\" )"
   ]
  },
  {
   "cell_type": "code",
   "execution_count": 15,
   "metadata": {},
   "outputs": [
    {
     "data": {
      "text/plain": [
       "\n",
       "Call:\n",
       "lm(formula = tot_yo ~ neet.c + lowsat.c + oow.c + hb25.c + hb3544.c, \n",
       "    data = newdata)\n",
       "\n",
       "Residuals:\n",
       "     Min       1Q   Median       3Q      Max \n",
       "-244.299  -28.043    4.843   36.619  186.239 \n",
       "\n",
       "Coefficients:\n",
       "              Estimate Std. Error t value Pr(>|t|)   \n",
       "(Intercept) -5.120e+02  1.674e+02  -3.059  0.00510 **\n",
       "neet.c       2.361e-01  6.463e-02   3.653  0.00115 **\n",
       "lowsat.c     9.422e-03  1.093e-02   0.862  0.39653   \n",
       "oow.c        5.321e+00  5.284e+00   1.007  0.32320   \n",
       "hb25.c       3.786e+01  1.216e+01   3.112  0.00447 **\n",
       "hb3544.c     3.540e-01  1.575e-01   2.247  0.03332 * \n",
       "---\n",
       "Signif. codes:  0 '***' 0.001 '**' 0.01 '*' 0.05 '.' 0.1 ' ' 1\n",
       "\n",
       "Residual standard error: 90.16 on 26 degrees of freedom\n",
       "Multiple R-squared:  0.838,\tAdjusted R-squared:  0.8069 \n",
       "F-statistic:  26.9 on 5 and 26 DF,  p-value: 1.675e-09\n"
      ]
     },
     "metadata": {},
     "output_type": "display_data"
    }
   ],
   "source": [
    "# build a Multivariate Linear Regression Model (mod1) and display results summary\n",
    "mod1 = lm(tot_yo ~ neet.c + lowsat.c + oow.c + hb25.c + hb3544.c, data=newdata)\n",
    "summary(mod1)"
   ]
  },
  {
   "cell_type": "code",
   "execution_count": 16,
   "metadata": {},
   "outputs": [
    {
     "data": {
      "image/png": "[encoded data removed]",
      "text/plain": [
       "Plot with title \"\""
      ]
     },
     "metadata": {},
     "output_type": "display_data"
    }
   ],
   "source": [
    "# A good model should only use the most salient variables, to avoid multicollinearity.\n",
    "# This is when one or more variables can be linearly predicted from each other.\n",
    "# An easy way to check is to plot a correlation matrix of the variables.\n",
    "newdatacor = cor(newdata[3:7])\n",
    "corrplot(newdatacor, method = \"number\")"
   ]
  }
 ],
 "metadata": {
  "kernelspec": {
   "display_name": "Python 2",
   "language": "python",
   "name": "python2"
  },
  "language_info": {
   "codemirror_mode": {
    "name": "ipython",
    "version": 2
   },
   "file_extension": ".py",
   "mimetype": "text/x-python",
   "name": "python",
   "nbconvert_exporter": "python",
   "pygments_lexer": "ipython2",
   "version": "2.7.14"
  }
 },
 "nbformat": 4,
 "nbformat_minor": 2
}
