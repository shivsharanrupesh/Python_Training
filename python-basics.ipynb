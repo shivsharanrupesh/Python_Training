{
 "cells": [
  {
   "cell_type": "code",
   "execution_count": 7,
   "metadata": {},
   "outputs": [
    {
     "name": "stdout",
     "output_type": "stream",
     "text": [
      "Please enter your name: roopesh\n",
      "roopesh\n"
     ]
    }
   ],
   "source": [
    "response = raw_input(\"Please enter your name: \")\n",
    "print response"
   ]
  },
  {
   "cell_type": "code",
   "execution_count": 10,
   "metadata": {},
   "outputs": [
    {
     "name": "stdout",
     "output_type": "stream",
     "text": [
      "sys.version_info(major=2, minor=7, micro=12, releaselevel='final', serial=0)\n"
     ]
    }
   ],
   "source": [
    "from sys import version_info\n",
    "print version_info"
   ]
  },
  {
   "cell_type": "code",
   "execution_count": 12,
   "metadata": {},
   "outputs": [
    {
     "name": "stdout",
     "output_type": "stream",
     "text": [
      "Sum: 3\n",
      "Difference: 99\n",
      "Product: 12\n",
      "Quotient: 4\n",
      "Power: 16\n",
      "Remainder: 1\n"
     ]
    }
   ],
   "source": [
    "sum = 1 + 2\n",
    "difference = 100 - 1\n",
    "product = 3 * 4\n",
    "quotient = 8 / 2\n",
    "power = 2 ** 4\n",
    "remainder = 3 % 2\n",
    "\n",
    "print('Sum: {}'.format(sum))\n",
    "print('Difference: {}'.format(difference))\n",
    "print('Product: {}'.format(product))\n",
    "print('Quotient: {}'.format(quotient))\n",
    "print('Power: {}'.format(power))\n",
    "print('Remainder: {}'.format(remainder))"
   ]
  },
  {
   "cell_type": "code",
   "execution_count": 13,
   "metadata": {},
   "outputs": [
    {
     "name": "stdout",
     "output_type": "stream",
     "text": [
      "True\n",
      "False\n"
     ]
    }
   ],
   "source": [
    "a_boolean = True\n",
    "the_other_boolean = False\n",
    "print(a_boolean)\n",
    "print(the_other_boolean)"
   ]
  },
  {
   "cell_type": "code",
   "execution_count": 15,
   "metadata": {},
   "outputs": [
    {
     "name": "stdout",
     "output_type": "stream",
     "text": [
      "Thirty-seven is less than forty.\n"
     ]
    }
   ],
   "source": [
    "if 37 < 40:\n",
    "    print('Thirty-seven is less than forty.')"
   ]
  },
  {
   "cell_type": "code",
   "execution_count": 16,
   "metadata": {},
   "outputs": [
    {
     "name": "stdout",
     "output_type": "stream",
     "text": [
      "Have a nice day!\n"
     ]
    }
   ],
   "source": [
    "age = 31\n",
    "if age >= 35:\n",
    "    print('You are old enough to be the President.')\n",
    "print('Have a nice day!')\n"
   ]
  },
  {
   "cell_type": "code",
   "execution_count": 19,
   "metadata": {},
   "outputs": [
    {
     "name": "stdout",
     "output_type": "stream",
     "text": [
      "You are not old enough to be the President.\n",
      "Have a nice day!\n"
     ]
    }
   ],
   "source": [
    "\n",
    "if age >= 35:\n",
    "    print('You are old enough to be the President.')\n",
    "else:\n",
    "    print('You are not old enough to be the President.')\n",
    "print('Have a nice day!')"
   ]
  },
  {
   "cell_type": "code",
   "execution_count": 20,
   "metadata": {},
   "outputs": [
    {
     "name": "stdout",
     "output_type": "stream",
     "text": [
      "You are old enough to be a Senator.\n",
      "Have a nice day!\n"
     ]
    }
   ],
   "source": [
    "age = 31\n",
    "if age >= 35:\n",
    "    print('You are old enough to be a Senator or the President.')\n",
    "elif age >= 30:\n",
    "    print('You are old enough to be a Senator.')\n",
    "else:\n",
    "    print('You are not old enough to be a Senator or the President.')\n",
    "print('Have a nice day!')\n"
   ]
  },
  {
   "cell_type": "code",
   "execution_count": 21,
   "metadata": {},
   "outputs": [
    {
     "name": "stdout",
     "output_type": "stream",
     "text": [
      "You are old enough to be a Representative, Senator, or the President.\n",
      "Have a nice day!\n"
     ]
    }
   ],
   "source": [
    "age = 99\n",
    "if age >= 35:\n",
    "    print('You are old enough to be a Representative, Senator, or the President.')\n",
    "elif age >= 30:\n",
    "    print('You are old enough to be a Senator.')\n",
    "elif age >= 25:\n",
    "    print('You are old enough to be a Representative.')\n",
    "else:\n",
    "    print('You are not old enough to be a Representative, Senator, or the President.')\n",
    "print('Have a nice day!')"
   ]
  },
  {
   "cell_type": "code",
   "execution_count": 24,
   "metadata": {},
   "outputs": [],
   "source": [
    "def say_hi():\n",
    "    print('Hi!')"
   ]
  },
  {
   "cell_type": "code",
   "execution_count": 25,
   "metadata": {},
   "outputs": [
    {
     "name": "stdout",
     "output_type": "stream",
     "text": [
      "Hi!\n"
     ]
    }
   ],
   "source": [
    "def say_hi():\n",
    "    print('Hi!')\n",
    "say_hi()"
   ]
  },
  {
   "cell_type": "code",
   "execution_count": 26,
   "metadata": {},
   "outputs": [
    {
     "name": "stdout",
     "output_type": "stream",
     "text": [
      "Hi Jason!\n",
      "Hi everybody!\n"
     ]
    }
   ],
   "source": [
    "def say_hi(name):\n",
    "    print('Hi {}!'.format(name))\n",
    "say_hi('Jason')\n",
    "say_hi('everybody')"
   ]
  },
  {
   "cell_type": "code",
   "execution_count": 27,
   "metadata": {},
   "outputs": [
    {
     "name": "stdout",
     "output_type": "stream",
     "text": [
      "Hi there!\n",
      "Hi Jason!\n"
     ]
    }
   ],
   "source": [
    "def say_hi(name = 'there'):\n",
    "    print('Hi {}!'.format(name))\n",
    "say_hi()\n",
    "say_hi('Jason')"
   ]
  },
  {
   "cell_type": "code",
   "execution_count": 28,
   "metadata": {},
   "outputs": [
    {
     "name": "stdout",
     "output_type": "stream",
     "text": [
      "Odd\n"
     ]
    }
   ],
   "source": [
    "def odd_or_even(number):\n",
    "    \"\"\"Determine if a number is odd or even.\"\"\"\n",
    "    if number % 2 == 0:\n",
    "        return 'Even'\n",
    "    else:\n",
    "        return 'Odd'\n",
    "odd_or_even_string = odd_or_even(7)\n",
    "print(odd_or_even_string)"
   ]
  },
  {
   "cell_type": "code",
   "execution_count": null,
   "metadata": {},
   "outputs": [],
   "source": [
    "def is_odd(number):\n",
    "    \"\"\"Determine if a number is odd.\"\"\"\n",
    "    if number % 2 == 0:\n",
    "        return False\n",
    "    else:\n",
    "        return True\n",
    "print(is_odd(7))"
   ]
  },
  {
   "cell_type": "code",
   "execution_count": null,
   "metadata": {},
   "outputs": [
    {
     "name": "stdout",
     "output_type": "stream",
     "text": [
      "What is your name? roop\n",
      "roop\n",
      "What is your name? roop\n",
      "Your name is roop.\n"
     ]
    }
   ],
   "source": [
    "def get_name():\n",
    "    name = raw_input('What is your name? ')\n",
    "    return name\n",
    "def say_name(name):\n",
    "    print('Your name is {}.'.format(name))\n",
    "def get_and_say_name():\n",
    "    \"\"\"Get and display name\"\"\"\n",
    "    name = get_name()\n",
    "    say_name(name)\n",
    "    get_and_say_name()\n",
    "print(get_name())\n",
    "print(get_and_say_name())"
   ]
  },
  {
   "cell_type": "code",
   "execution_count": 1,
   "metadata": {},
   "outputs": [
    {
     "name": "stdout",
     "output_type": "stream",
     "text": [
      "man\n",
      "bear\n",
      "pig\n"
     ]
    }
   ],
   "source": [
    "animals = ['man', 'bear', 'pig']\n",
    "print(animals[0])\n",
    "print(animals[1])\n",
    "print(animals[2])"
   ]
  },
  {
   "cell_type": "code",
   "execution_count": 2,
   "metadata": {},
   "outputs": [
    {
     "name": "stdout",
     "output_type": "stream",
     "text": [
      "man\n",
      "cat\n"
     ]
    }
   ],
   "source": [
    "animals = ['man', 'bear', 'pig']\n",
    "print(animals[0])\n",
    "animals[0] = 'cat'\n",
    "print(animals[0])\n"
   ]
  },
  {
   "cell_type": "code",
   "execution_count": 3,
   "metadata": {},
   "outputs": [
    {
     "name": "stdout",
     "output_type": "stream",
     "text": [
      "pig\n",
      "bear\n",
      "man\n"
     ]
    }
   ],
   "source": [
    "animals = ['man', 'bear', 'pig']\n",
    "print(animals[-1])\n",
    "print(animals[-2])\n",
    "print(animals[-3])"
   ]
  },
  {
   "cell_type": "code",
   "execution_count": 4,
   "metadata": {},
   "outputs": [
    {
     "name": "stdout",
     "output_type": "stream",
     "text": [
      "['man', 'bear', 'pig', 'cow', 'duck']\n",
      "['man', 'bear', 'pig', 'cow', 'duck', 'horse', 'dog']\n"
     ]
    }
   ],
   "source": [
    "animals = ['man', 'bear', 'pig']\n",
    "animals.extend(['cow', 'duck'])\n",
    "print(animals)\n",
    "more_animals = ['horse', 'dog']\n",
    "animals.extend(more_animals)\n",
    "print(animals)"
   ]
  },
  {
   "cell_type": "code",
   "execution_count": 5,
   "metadata": {},
   "outputs": [
    {
     "name": "stdout",
     "output_type": "stream",
     "text": [
      "Some animals:       ['bear', 'pig', 'cow']\n",
      "First two animals: ['man', 'bear']\n",
      "First two animals: ['man', 'bear']\n"
     ]
    }
   ],
   "source": [
    "animals = ['man', 'bear', 'pig', 'cow', 'duck', 'horse']\n",
    "some_animals = animals[1:4]\n",
    "print('Some animals:       {}'.format(some_animals))\n",
    "first_two = animals[0:2]\n",
    "print('First two animals: {}'.format(first_two))\n",
    "first_two_again = animals[:2]\n",
    "print('First two animals: {}'.format(first_two_again))"
   ]
  },
  {
   "cell_type": "code",
   "execution_count": 6,
   "metadata": {},
   "outputs": [
    {
     "name": "stdout",
     "output_type": "stream",
     "text": [
      "Last two animals: ['duck', 'horse']\n",
      "Last two animals: ['duck', 'horse']\n"
     ]
    }
   ],
   "source": [
    "animals = ['man', 'bear', 'pig', 'cow', 'duck', 'horse']\n",
    "last_two = animals[4:6]\n",
    "print('Last two animals: {}'.format(last_two))\n",
    "last_two_again = animals[-2:]\n",
    "print('Last two animals: {}'.format(last_two_again))"
   ]
  },
  {
   "cell_type": "code",
   "execution_count": 7,
   "metadata": {},
   "outputs": [
    {
     "name": "stdout",
     "output_type": "stream",
     "text": [
      "1\n"
     ]
    }
   ],
   "source": [
    "animals = ['man', 'bear', 'pig']\n",
    "bear_index = animals.index('bear')\n",
    "print(bear_index)"
   ]
  },
  {
   "cell_type": "code",
   "execution_count": 8,
   "metadata": {},
   "outputs": [
    {
     "name": "stdout",
     "output_type": "stream",
     "text": [
      "MAN\n",
      "BEAR\n",
      "PIG\n"
     ]
    }
   ],
   "source": [
    "animals = ['man', 'bear', 'pig']\n",
    "for animal in animals:\n",
    "    print(animal.upper())"
   ]
  },
  {
   "cell_type": "code",
   "execution_count": 9,
   "metadata": {},
   "outputs": [
    {
     "name": "stdout",
     "output_type": "stream",
     "text": [
      "man\n",
      "bear\n",
      "pig\n",
      "cow\n"
     ]
    }
   ],
   "source": [
    "animals = ['man', 'bear', 'pig', 'cow']\n",
    "index = 0\n",
    "while index < len(animals):\n",
    "    print(animals[index])\n",
    "    index += 1\n"
   ]
  },
  {
   "cell_type": "code",
   "execution_count": 11,
   "metadata": {},
   "outputs": [
    {
     "name": "stdout",
     "output_type": "stream",
     "text": [
      "1\n",
      "2\n"
     ]
    }
   ],
   "source": [
    "for number in range(1, 3):\n",
    "    print(number)"
   ]
  },
  {
   "cell_type": "code",
   "execution_count": 12,
   "metadata": {},
   "outputs": [
    {
     "name": "stdout",
     "output_type": "stream",
     "text": [
      "1\n",
      "3\n",
      "5\n",
      "7\n",
      "9\n"
     ]
    }
   ],
   "source": [
    "for number in range(1, 10, 2):\n",
    "    print(number)"
   ]
  },
  {
   "cell_type": "code",
   "execution_count": 13,
   "metadata": {},
   "outputs": [
    {
     "name": "stdout",
     "output_type": "stream",
     "text": [
      "The number for Jason is 555-0123.\n",
      "The number for Carl is 555-0987.\n"
     ]
    }
   ],
   "source": [
    "contacts = {\n",
    "'Jason': '555-0123',\n",
    "'Carl': '555-0987'\n",
    "}\n",
    "for contact in contacts:\n",
    "    print('The number for {0} is {1}.'.\n",
    "format(contact, contacts[contact]))\n"
   ]
  },
  {
   "cell_type": "code",
   "execution_count": 15,
   "metadata": {},
   "outputs": [
    {
     "name": "stdout",
     "output_type": "stream",
     "text": [
      "Monday\n",
      "()\n",
      "Monday\n",
      "Tuesday\n",
      "Wednesday\n",
      "Thursday\n",
      "Friday\n",
      "Saturday\n",
      "Sunday\n"
     ]
    }
   ],
   "source": [
    "days_of_the_week = ('Monday', 'Tuesday', 'Wednesday',\n",
    "'Thursday', 'Friday', 'Saturday', 'Sunday')\n",
    "monday = days_of_the_week[0]\n",
    "print(monday)\n",
    "print()\n",
    "for day in days_of_the_week:\n",
    "    print(day)"
   ]
  },
  {
   "cell_type": "code",
   "execution_count": null,
   "metadata": {
    "collapsed": true
   },
   "outputs": [],
   "source": []
  }
 ],
 "metadata": {
  "anaconda-cloud": {},
  "kernelspec": {
   "display_name": "Python 2",
   "language": "python",
   "name": "python2"
  },
  "language_info": {
   "codemirror_mode": {
    "name": "ipython",
    "version": 2
   },
   "file_extension": ".py",
   "mimetype": "text/x-python",
   "name": "python",
   "nbconvert_exporter": "python",
   "pygments_lexer": "ipython2",
   "version": "2.7.14"
  }
 },
 "nbformat": 4,
 "nbformat_minor": 1
}
